{
 "cells": [
  {
   "cell_type": "code",
   "execution_count": 20,
   "metadata": {},
   "outputs": [],
   "source": [
    "import numpy as np\n",
    "import pandas as pd\n",
    "import random\n",
    "import math"
   ]
  },
  {
   "cell_type": "code",
   "execution_count": 2,
   "metadata": {},
   "outputs": [],
   "source": [
    "class EM(object):\n",
    "    '''Class for Implementing Expectation Minimization Algorithm'''\n",
    "    def __init__(self, data, k, d):\n",
    "        '''\n",
    "        data = the d dimensional data points\n",
    "        k = number of clusters\n",
    "        d = number of dimensions\n",
    "        '''\n",
    "        self.X = data\n",
    "        self.k = k\n",
    "        self.d = d\n",
    "        self.N = len(data)\n",
    "        self.mean = None \n",
    "        self.covariance = None\n",
    "        self.r = [[0 for _ in range(k)] for _ in range(N)]\n",
    "        self.m_c = [0 for _ in range(k)]\n",
    "        self.pi_c = [0 for _ in range(k)]\n",
    "        \n",
    "    def _initialze(self):\n",
    "        '''\n",
    "        Function To Initialize the Expectation Step\n",
    "        '''\n",
    "    \n",
    "    def kmeans(self):\n",
    "        '''\n",
    "        Initializes the EM algorithm using KMeans++ initialization stratergy\n",
    "        yet to complete\n",
    "        '''\n",
    "        centers = []\n",
    "        chosen = {} #hash table to keep track of chosen points\n",
    "        while (len(centers) != self.k):\n",
    "            flag = 0\n",
    "            while(flag == 0):\n",
    "                n = np.random.randint(0, self.N-1)\n",
    "                try:\n",
    "                    flag = chosen[n] - 1\n",
    "                except:\n",
    "                    chosen[n] = 1\n",
    "                    flag = 1\n",
    "            centers.app\n",
    "                \n",
    "            \n",
    "            \n",
    "            \n",
    "    def Gaussian(self, x, mean, covar):\n",
    "        '''\n",
    "        Calculates Gaussian Probability\n",
    "        '''\n",
    "        num = math.exp(0.5*np.dot(np.dot((x-mean).T, np.linalg.inv(covar)), x-mean))\n",
    "        den = math.sqrt(2*math.pi*np.linalg.det(covar))\n",
    "        return num/den\n",
    "        \n",
    "    def E_Step(self):\n",
    "        '''\n",
    "        Computers ric (confidence score) for each data point\n",
    "        '''\n",
    "        for i in range(self.X):\n",
    "            den = 0\n",
    "            for j in range(self.k):\n",
    "                den += self.pi_c[j]*self.Gaussian(self.X[i], self.mean[j], self.covariance[j])\n",
    "            for c in range(self.k):\n",
    "                r[i][c] = self.pi_c*self.Gaussian(self.X[i], self.mean[c], self.covariance[c])/den\n",
    "    \n",
    "    def M_Step(self):\n",
    "        '''\n",
    "        Maximization Step : Updates the Parameters (mean, covariacne, pi_c)\n",
    "        '''\n",
    "        for c in range(self.k):\n",
    "            temp = 0\n",
    "            mu_temp = 0\n",
    "            var_temp = 0\n",
    "            for i in range(self.N):\n",
    "                temp += self.r[i][c]\n",
    "                mu_temp += self.r[i][c]*self.X[i]\n",
    "                var_temp += self.r[i][c]*np.dot((self.X[i]-self.mean[c]).T, self.X[i]-self.mean[c])\n",
    "            self.m_c[c] = temp\n",
    "            self.pi_c[c] = temp/self.N\n",
    "            self.mean[c] = mu_temp/temp\n",
    "            self.covariance[c] = var_temp/temp    "
   ]
  },
  {
   "cell_type": "code",
   "execution_count": 18,
   "metadata": {},
   "outputs": [
    {
     "data": {
      "text/plain": [
       "array([[[-1.16861883,  0.40733924, -0.28855449, -0.26653416]]])"
      ]
     },
     "execution_count": 18,
     "metadata": {},
     "output_type": "execute_result"
    }
   ],
   "source": [
    "mean = np.zeros(4)\n",
    "var  = np.diag(np.ones(4))\n",
    "np.random.multivariate_normal(mean, var, size = (1, 1))"
   ]
  }
 ],
 "metadata": {
  "kernelspec": {
   "display_name": "Python 3",
   "language": "python",
   "name": "python3"
  },
  "language_info": {
   "codemirror_mode": {
    "name": "ipython",
    "version": 3
   },
   "file_extension": ".py",
   "mimetype": "text/x-python",
   "name": "python",
   "nbconvert_exporter": "python",
   "pygments_lexer": "ipython3",
   "version": "3.6.7"
  }
 },
 "nbformat": 4,
 "nbformat_minor": 2
}
