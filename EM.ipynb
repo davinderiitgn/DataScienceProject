{
 "cells": [
  {
   "cell_type": "code",
   "execution_count": 5,
   "metadata": {},
   "outputs": [],
   "source": [
    "import numpy as np\n",
    "import pandas as pd\n",
    "import random\n",
    "import math\n",
    "from sklearn.cluster import KMeans"
   ]
  },
  {
   "cell_type": "code",
   "execution_count": 436,
   "metadata": {},
   "outputs": [],
   "source": [
    "class EM(object):\n",
    "    '''Class for Implementing Expectation Minimization Algorithm'''\n",
    "    def __init__(self, data, k, d):\n",
    "        '''\n",
    "        data = the d dimensional data points\n",
    "        k = number of clusters\n",
    "        d = number of dimensions\n",
    "        '''\n",
    "        self.X = data\n",
    "        self.k = k\n",
    "        self.d = d\n",
    "        self.N = len(data)\n",
    "        self.mean = None \n",
    "        self.covariance = None\n",
    "        self.r = [[0 for _ in range(k)] for _ in range(len(data))]\n",
    "        self.m_c = [0 for _ in range(k)]\n",
    "        self.pi_c = [0 for _ in range(k)]\n",
    "        \n",
    "    def _initialze(self):\n",
    "        '''\n",
    "        Function To Initialize the Expectation Step\n",
    "        '''\n",
    "    \n",
    "    def dis(self, a, b, X):\n",
    "        return (np.sqrt(X[a][0]-X[b][0])**2+(X[a][1]-X[b][1])**2)\n",
    "\n",
    "    \n",
    "    def random_init(self):\n",
    "        l = random.sample(range(self.N), 4)\n",
    "        self.mean = np.array([self.X[i] for i in l])\n",
    "        var = []\n",
    "        for i in range(4):\n",
    "            var.append(np.identity(self.d))\n",
    "        self.covariance = np.array(var)\n",
    "        for i in range(self.k):\n",
    "            self.pi_c[i] = 1/self.k\n",
    "        \n",
    "        \n",
    "\n",
    "    def kmpp(self):\n",
    "        # k is number of centers\n",
    "        # X is the data\n",
    "        curr_points = []\n",
    "        n = self.X.shape[0]\n",
    "        curr_points.append(random.randint(0,n-1))\n",
    "\n",
    "        for i in range(self.k-1):\n",
    "            prob = np.zeros((n,1))\n",
    "            mini = float('inf')\n",
    "            for j in range(n):\n",
    "                for l in curr_points:\n",
    "                    temp = self.dis(l, j, self.X)\n",
    "                    if(temp < mini):\n",
    "                        mini = temp\n",
    "                        prob[j] = mini\n",
    "            prob = prob/sum(prob)\n",
    "            curr_points.append(np.random.choice(n,1,list(prob))[0])\n",
    "        centers = np.array([self.X[i] for i in curr_points])\n",
    "        kmeans = KMeans(n_clusters=4, init = centers, max_iter = 1).fit(self.X)\n",
    "        labels = kmeans.labels_\n",
    "        clusters = {}\n",
    "        var = {}\n",
    "        for i in range(self.k):\n",
    "            clusters[i]=[]\n",
    "            var[i] = {}\n",
    "        for i in range(len(self.X)):\n",
    "            clusters[labels[i]].append(self.X[i])\n",
    "            for j in range(self.d):\n",
    "                try:\n",
    "                    var[labels[i]][j].append(self.X[i][j])\n",
    "                except:\n",
    "                    var[labels[i]][j] = [self.X[i][j]]\n",
    "        MEANS = []\n",
    "        VARIANCE = []\n",
    "        for i in range(self.k):\n",
    "            MEANS.append(np.mean(clusters[i], axis = 0))\n",
    "            VARIANCE.append(np.zeros((self.d, self.d)))\n",
    "            for j in range(self.d):\n",
    "                VARIANCE[i][j][j] = np.var(var[i][j])\n",
    "        self.mean = MEANS\n",
    "        self.covariance = VARIANCE  \n",
    "        for i in range(self.k):\n",
    "            self.pi_c[i] = 1/self.k\n",
    "            \n",
    "            \n",
    "    def Gaussian(self, x, mean, covar):\n",
    "        '''\n",
    "        Calculates Gaussian Probability\n",
    "        '''\n",
    "        num = math.exp(-0.5*np.dot(np.dot((x-mean).T, np.linalg.inv(covar)), x-mean))\n",
    "        den = math.sqrt(2*math.pi*np.linalg.det(covar))\n",
    "        return num/den\n",
    "        \n",
    "    def E_Step(self):\n",
    "        '''\n",
    "        Computers ric (confidence score) for each data point\n",
    "        '''\n",
    "        for i in range(self.N):\n",
    "            den = 0\n",
    "            for j in range(self.k):\n",
    "                den += self.pi_c[j]*self.Gaussian(self.X[i], self.mean[j], self.covariance[j])\n",
    "            for c in range(self.k):\n",
    "                self.r[i][c] = self.pi_c[c]*self.Gaussian(self.X[i], self.mean[c], self.covariance[c])/den\n",
    "    \n",
    "    def M_Step(self):\n",
    "        '''\n",
    "        Maximization Step : Updates the Parameters (mean, covariacne, pi_c)\n",
    "        '''\n",
    "        for c in range(self.k):\n",
    "            temp = 0\n",
    "            mu_temp = 0\n",
    "            var_temp = 0\n",
    "            for i in range(self.N):\n",
    "                temp += self.r[i][c]\n",
    "                mu_temp += self.r[i][c]*self.X[i]\n",
    "            self.m_c[c] = temp\n",
    "            self.pi_c[c] = temp/self.N\n",
    "            self.mean[c] = mu_temp/temp\n",
    "            for i in range(self.N):\n",
    "                var_temp += self.r[i][c]*np.dot(np.reshape(self.X[i]-self.mean[c], (self.d,1)), np.reshape(self.X[i]-self.mean[c], (1, self.d)))\n",
    "            self.covariance[c] = var_temp/temp \n",
    "    \n",
    "    def train(self, num_iter, visualize = None):\n",
    "        for i in range(num_iter):\n",
    "            self.E_Step()\n",
    "            self.M_Step()\n",
    "            if visualize :\n",
    "                print(self.covariance)\n",
    "#                 plt.scatter(self.X[:,[0]], self.X[:,[1]])\n",
    "#                 plt.scatter(self.mean[:,[0]].ravel(), self.mean[:,[1]].ravel(), c = np.array([-1,-1,-1,-1]))\n",
    "            "
   ]
  },
  {
   "cell_type": "code",
   "execution_count": 18,
   "metadata": {},
   "outputs": [
    {
     "data": {
      "text/plain": [
       "array([[[-1.16861883,  0.40733924, -0.28855449, -0.26653416]]])"
      ]
     },
     "execution_count": 18,
     "metadata": {},
     "output_type": "execute_result"
    }
   ],
   "source": [
    "mean = np.zeros(4)\n",
    "var  = np.diag(np.ones(4))\n",
    "np.random.multivariate_normal(mean, var, size = (1, 1))"
   ]
  },
  {
   "cell_type": "code",
   "execution_count": 6,
   "metadata": {},
   "outputs": [],
   "source": [
    "def gauss_2d(mu1,mu2,sigma1, sigma2):\n",
    "    x = random.gauss(mu2, sigma1)\n",
    "    y = random.gauss(mu1, sigma2)\n",
    "    return (x, y)"
   ]
  },
  {
   "cell_type": "code",
   "execution_count": 7,
   "metadata": {},
   "outputs": [],
   "source": [
    "points = np.zeros((4,100,2))\n",
    "acu_points = np.zeros((400,2))\n",
    "t = 0\n",
    "for j in range(4):\n",
    "    for i in range(100):\n",
    "        if(j==0):\n",
    "            temp = gauss_2d(10,0,1,1)\n",
    "            points[j][i] = temp\n",
    "        \n",
    "        if(j==1):\n",
    "            temp = gauss_2d(0,10,1,1)\n",
    "            points[j][i] = temp\n",
    "        if(j==2):\n",
    "            temp = gauss_2d(-10,0,1,1)\n",
    "            points[j][i] = temp\n",
    "        if(j==3):\n",
    "            temp = gauss_2d(0,-10,1,1)\n",
    "            points[j][i] = temp\n",
    "        acu_points[t] = temp\n",
    "        t = t + 1"
   ]
  },
  {
   "cell_type": "code",
   "execution_count": 13,
   "metadata": {},
   "outputs": [
    {
     "data": {
      "image/png": "[encoded data removed]",
      "text/plain": [
       "<Figure size 432x288 with 1 Axes>"
      ]
     },
     "metadata": {
      "needs_background": "light"
     },
     "output_type": "display_data"
    }
   ],
   "source": [
    "import matplotlib.pyplot as plt\n",
    "for j in range(4):\n",
    "    plt.scatter(points[j][:,0],points[j][:,1])\n",
    "plt.show()"
   ]
  },
  {
   "cell_type": "code",
   "execution_count": 25,
   "metadata": {},
   "outputs": [],
   "source": [
    "dim = 2\n",
    "k = 4"
   ]
  },
  {
   "cell_type": "code",
   "execution_count": 285,
   "metadata": {},
   "outputs": [],
   "source": [
    "new_points = points.reshape(points.shape[0]*points.shape[1],2)"
   ]
  },
  {
   "cell_type": "code",
   "execution_count": 445,
   "metadata": {},
   "outputs": [],
   "source": [
    "model = EM(new_points, k, dim)\n",
    "model.random_init()"
   ]
  },
  {
   "cell_type": "code",
   "execution_count": 446,
   "metadata": {},
   "outputs": [
    {
     "data": {
      "text/plain": [
       "<matplotlib.collections.PathCollection at 0x7fa18d020198>"
      ]
     },
     "execution_count": 446,
     "metadata": {},
     "output_type": "execute_result"
    },
    {
     "data": {
      "image/png": "[encoded data removed]",
      "text/plain": [
       "<Figure size 432x288 with 1 Axes>"
      ]
     },
     "metadata": {
      "needs_background": "light"
     },
     "output_type": "display_data"
    }
   ],
   "source": [
    "plt.scatter(new_points[:,[0]], new_points[:,[1]])\n",
    "m = np.array(model.mean)\n",
    "plt.scatter(m[:,[0]].ravel(), m[:,[1]].ravel(), c = np.array([-1,-1,-1,-1]))"
   ]
  },
  {
   "cell_type": "code",
   "execution_count": 449,
   "metadata": {},
   "outputs": [],
   "source": [
    "model.train(100)"
   ]
  },
  {
   "cell_type": "code",
   "execution_count": 386,
   "metadata": {},
   "outputs": [
    {
     "data": {
      "text/plain": [
       "[array([10.13763708,  0.01994937]),\n",
       " array([-0.08525398,  9.99604012]),\n",
       " array([ -0.08615102, -10.12063503]),\n",
       " array([-10.0877076 ,   0.04114049])]"
      ]
     },
     "execution_count": 386,
     "metadata": {},
     "output_type": "execute_result"
    }
   ],
   "source": [
    "model.mean"
   ]
  },
  {
   "cell_type": "code",
   "execution_count": 451,
   "metadata": {},
   "outputs": [
    {
     "data": {
      "text/plain": [
       "<matplotlib.collections.PathCollection at 0x7fa18cf20128>"
      ]
     },
     "execution_count": 451,
     "metadata": {},
     "output_type": "execute_result"
    },
    {
     "data": {
      "image/png": "[encoded data removed]",
      "text/plain": [
       "<Figure size 432x288 with 1 Axes>"
      ]
     },
     "metadata": {
      "needs_background": "light"
     },
     "output_type": "display_data"
    }
   ],
   "source": [
    "new_points[:,[1]]\n",
    "plt.scatter(new_points[:,[0]], new_points[:,[1]])\n",
    "m = np.array(model.mean)\n",
    "plt.scatter(m[:,[0]].ravel(), m[:,[1]].ravel(), c = np.array([-1,-1,-1,-1]))"
   ]
  },
  {
   "cell_type": "code",
   "execution_count": 429,
   "metadata": {},
   "outputs": [
    {
     "data": {
      "text/plain": [
       "[4, 6, 9, 0]"
      ]
     },
     "execution_count": 429,
     "metadata": {},
     "output_type": "execute_result"
    }
   ],
   "source": [
    "import random\n",
    "z = random.sample(range(10), 4)\n",
    "z"
   ]
  }
 ],
 "metadata": {
  "kernelspec": {
   "display_name": "Python 3",
   "language": "python",
   "name": "python3"
  },
  "language_info": {
   "codemirror_mode": {
    "name": "ipython",
    "version": 3
   },
   "file_extension": ".py",
   "mimetype": "text/x-python",
   "name": "python",
   "nbconvert_exporter": "python",
   "pygments_lexer": "ipython3",
   "version": "3.6.7"
  }
 },
 "nbformat": 4,
 "nbformat_minor": 2
}
